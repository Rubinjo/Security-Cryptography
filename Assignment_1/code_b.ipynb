{
 "cells": [
  {
   "cell_type": "code",
   "execution_count": 238,
   "source": [
    "ciphertext = \"vcxfrrq il wlveegncc rxiyimrnvcek n mtaemsivyex rrnjkmbn hh klr Rxsbnnnxm Giaigmlpn tay cead mbrx poghvggs Kypowaocb avta Evjyaocb Matxleegihhrp Nikjfvg ig nyi jexej frfhlv mgs xlltgihh klr ctjzxnl thu mgs loivbugxzrt akyrw uaw vvia saubia br nvrf oy nyshsthuw bf xuixuqnubif ag idmaonm gvbmbmv xuam pfppagct eptbpzxl wtm zqzigyex nlmbfyth mbv Vryddrrrs Iyemasnfr mf a ockey ptlk ss tay tshnmlp Jngkuueysydrpy il nyeakyocpl lhwrxrd pcklvn t myiytxlvh iaefvc nwts wvbm thp wrtmfvqrnmm fv vnylrwgrnwkyee fubmag bnj ieuinzsa rtnyie ugxzweuinzzr\""
   ],
   "outputs": [],
   "metadata": {}
  },
  {
   "cell_type": "markdown",
   "source": [
    "Check which bigram(s) is most appropriate for the Kasiski test (most often encountered)."
   ],
   "metadata": {}
  },
  {
   "cell_type": "code",
   "execution_count": 239,
   "source": [
    "c = ciphertext.replace(\" \", \"\").lower()\r\n",
    "dic = {}\r\n",
    "for idx, letter in enumerate(c[:len(c) - 1]):\r\n",
    "    bigram = c[idx] + c[idx + 1]\r\n",
    "    try:\r\n",
    "        if bigram != c[idx + 1] + c[idx + 2]:\r\n",
    "            if bigram in dic:\r\n",
    "                dic[bigram] += 1\r\n",
    "            else:\r\n",
    "                dic[bigram] = 1\r\n",
    "    except:\r\n",
    "        pass\r\n",
    "max_value = max(dic.items(), key=lambda x: x[1])\r\n",
    "bigrams = []\r\n",
    "for key, value in dic.items():\r\n",
    "    if value == max_value[1]:\r\n",
    "        bigrams.append(key)\r\n",
    "print(bigrams)\r\n",
    "    "
   ],
   "outputs": [
    {
     "output_type": "stream",
     "name": "stdout",
     "text": [
      "['yi', 'rn', 'ta', 'ye', 'mb', 'gi', 'bm', 'ny']\n"
     ]
    }
   ],
   "metadata": {}
  },
  {
   "cell_type": "markdown",
   "source": [
    "Do the same for trigrams."
   ],
   "metadata": {}
  },
  {
   "cell_type": "code",
   "execution_count": 240,
   "source": [
    "dic = {}\r\n",
    "for idx, letter in enumerate(c[:len(c) - 2]):\r\n",
    "    trigram = c[idx] + c[idx + 1] + c[idx + 2]\r\n",
    "    try:\r\n",
    "        if trigram != c[idx + 1] + c[idx + 2] + c[idx + 3]:\r\n",
    "            if trigram in dic:\r\n",
    "                dic[trigram] += 1\r\n",
    "            else:\r\n",
    "                dic[trigram] = 1\r\n",
    "    except:\r\n",
    "        pass\r\n",
    "max_value = max(dic.items(), key=lambda x: x[1])\r\n",
    "trigrams = []\r\n",
    "for key, value in dic.items():\r\n",
    "    if value == max_value[1]:\r\n",
    "        trigrams.append(key)\r\n",
    "print(trigrams)"
   ],
   "outputs": [
    {
     "output_type": "stream",
     "name": "stdout",
     "text": [
      "['aoc']\n"
     ]
    }
   ],
   "metadata": {}
  },
  {
   "cell_type": "markdown",
   "source": [
    "Calculate the distances between every occurence of the most occured bigram."
   ],
   "metadata": {}
  },
  {
   "cell_type": "code",
   "execution_count": 241,
   "source": [
    "distances_bigrams=[]\r\n",
    "for bigram in bigrams:\r\n",
    "    distances = []\r\n",
    "    temp = 0\r\n",
    "    for idx, letter in enumerate(c[:len(c) - 1]):\r\n",
    "        test = c[idx] + c[idx + 1]\r\n",
    "        if (test == bigram):\r\n",
    "            distances.append(temp + 1)\r\n",
    "            temp = 0\r\n",
    "        else:\r\n",
    "            temp += 1\r\n",
    "    distances.pop(0)\r\n",
    "    distances_bigrams.append(distances)\r\n",
    "print(distances_bigrams)"
   ],
   "outputs": [
    {
     "output_type": "stream",
     "name": "stdout",
     "text": [
      "[[115, 212, 28, 72], [19, 163, 202, 13], [41, 30, 83, 139], [240, 24, 49, 73], [33, 167, 37, 6], [56, 12, 24, 80], [134, 2, 148, 34], [78, 138, 64, 32]]\n"
     ]
    }
   ],
   "metadata": {}
  },
  {
   "cell_type": "markdown",
   "source": [
    "Do the same for trigrams."
   ],
   "metadata": {}
  },
  {
   "cell_type": "code",
   "execution_count": 242,
   "source": [
    "distances_trigrams=[]\r\n",
    "for trigram in trigrams:\r\n",
    "    distances = []\r\n",
    "    temp = 0\r\n",
    "    for idx, letter in enumerate(c[:len(c) - 2]):\r\n",
    "        test = c[idx] + c[idx + 1] + c[idx + 2]\r\n",
    "        if (test == trigram):\r\n",
    "            distances.append(temp + 1)\r\n",
    "            temp = 0\r\n",
    "        else:\r\n",
    "            temp += 1\r\n",
    "    distances.pop(0)\r\n",
    "    distances_trigrams.append(distances)\r\n",
    "print(distances_trigrams)"
   ],
   "outputs": [
    {
     "output_type": "stream",
     "name": "stdout",
     "text": [
      "[[12, 204]]\n"
     ]
    }
   ],
   "metadata": {}
  },
  {
   "cell_type": "markdown",
   "source": [
    "Calculate the greatest common divisor between the distances for every bigram."
   ],
   "metadata": {}
  },
  {
   "cell_type": "code",
   "execution_count": 243,
   "source": [
    "import itertools\r\n",
    "\r\n",
    "def gcd(a,b):\r\n",
    "    if(b==0):\r\n",
    "        return a\r\n",
    "    else:\r\n",
    "        return gcd(b,a%b)\r\n",
    "\r\n",
    "gcds=[]\r\n",
    "for distances in distances_bigrams:\r\n",
    "    for subset in itertools.combinations(distances, 2):\r\n",
    "        gcds.append(gcd(subset[0], subset[1]))\r\n",
    "print(gcds)\r\n"
   ],
   "outputs": [
    {
     "output_type": "stream",
     "name": "stdout",
     "text": [
      "[1, 1, 1, 4, 4, 4, 1, 1, 1, 1, 1, 1, 1, 1, 1, 1, 1, 1, 24, 1, 1, 1, 1, 1, 1, 1, 3, 1, 1, 1, 4, 8, 8, 12, 4, 8, 2, 2, 2, 2, 2, 2, 6, 2, 2, 2, 2, 32]\n"
     ]
    }
   ],
   "metadata": {}
  },
  {
   "cell_type": "markdown",
   "source": [
    "Do the same for trigrams."
   ],
   "metadata": {}
  },
  {
   "cell_type": "code",
   "execution_count": 244,
   "source": [
    "gcds=[]\r\n",
    "for distances in distances_trigrams:\r\n",
    "    for subset in itertools.combinations(distances, 2):\r\n",
    "        gcds.append(gcd(subset[0], subset[1]))\r\n",
    "print(gcds)"
   ],
   "outputs": [
    {
     "output_type": "stream",
     "name": "stdout",
     "text": [
      "[12]\n"
     ]
    }
   ],
   "metadata": {}
  },
  {
   "cell_type": "markdown",
   "source": [
    "Enter the length of the keyword yourself (under CHOSEN_NUM).\r\n",
    "The statistical distance per length of word is calculated and based on that the letters for the keyword are established."
   ],
   "metadata": {}
  },
  {
   "cell_type": "code",
   "execution_count": 245,
   "source": [
    "CHOSEN_NUM = 6\r\n",
    "\r\n",
    "def occurences(found_gcd):\r\n",
    "    key = []\r\n",
    "    alphabet = \"abcdefghijklmnopqrstuvwxyz\"\r\n",
    "    prob_eng = {\"a\" : 0.082, \"b\" : 0.015, \"c\" : 0.028, \"d\" : 0.042, \"e\" : 0.127, \"f\" : 0.022, \"g\" : 0.020, \"h\" : 0.061, \"i\" : 0.070, \"j\" : 0.001, \"k\" : 0.008, \"l\" : 0.040, \"m\" : 0.024, \"n\" : 0.067, \"o\" : 0.075, \"p\" : 0.019, \"q\" : 0.001, \"r\" : 0.060, \"s\" : 0.063, \"t\" : 0.090, \"u\" : 0.028, \"v\" : 0.010, \"w\" : 0.024, \"x\" : 0.001, \"y\" : 0.020, \"z\" : 0.001}\r\n",
    "    for i in range(found_gcd):\r\n",
    "        freq_dic = {}\r\n",
    "        prob_dic = {}\r\n",
    "        total = 0\r\n",
    "        stat_dist = {\"0\" : 0, \"1\" : 0, \"2\" : 0, \"3\" : 0, \"4\" : 0, \"5\" : 0, \"6\" : 0, \"7\" : 0, \"8\" : 0, \"9\" : 0, \"10\" : 0, \"11\": 0, \"12\" : 0, \"13\" : 0, \"14\" : 0, \"15\" : 0, \"16\" : 0, \"17\": 0, \"18\" : 0, \"19\": 0, \"20\" : 0, \"21\" : 0, \"22\" : 0, \"23\" : 0, \"24\" : 0, \"25\" : 0}\r\n",
    "        # Frequencies\r\n",
    "        for j in range(i, len(c), found_gcd):\r\n",
    "            if c[j] in freq_dic:\r\n",
    "                freq_dic[c[j]] += 1\r\n",
    "            else:\r\n",
    "                freq_dic[c[j]] = 1\r\n",
    "            total += 1\r\n",
    "        # Probabilities\r\n",
    "        for letter in alphabet:\r\n",
    "            if letter in freq_dic:\r\n",
    "                prob_dic[letter] = freq_dic[letter] / total\r\n",
    "            else:\r\n",
    "                prob_dic[letter] = 0\r\n",
    "        # Statistical distance\r\n",
    "        for k in range(26):\r\n",
    "            for l in range(26):\r\n",
    "                stat_dist[str(k)] += abs(prob_eng[alphabet[l]] - prob_dic[alphabet[(l + k) % 26]])\r\n",
    "        for m in range(26):\r\n",
    "            stat_dist[str(m)] = 0.5 * stat_dist[str(m)]\r\n",
    "        key.append(min(stat_dist, key=stat_dist.get))\r\n",
    "    return key\r\n",
    "    \r\n",
    "key = occurences(CHOSEN_NUM)\r\n",
    "print(key)"
   ],
   "outputs": [
    {
     "output_type": "stream",
     "name": "stdout",
     "text": [
      "['13', '0', '19', '20', '17', '4']\n"
     ]
    }
   ],
   "metadata": {}
  },
  {
   "cell_type": "markdown",
   "source": [
    "Translate the key to a word.\r\n",
    "Translate the ciphertext with the found key to the plaintext."
   ],
   "metadata": {}
  },
  {
   "cell_type": "code",
   "execution_count": 251,
   "source": [
    "alphabet = \"abcdefghijklmnopqrstuvwxyz\"\r\n",
    "c_list = list(c)\r\n",
    "\r\n",
    "key_letters = []\r\n",
    "for k in key:\r\n",
    "    key_letters.append(alphabet[int(k)])\r\n",
    "\r\n",
    "for i in range(CHOSEN_NUM):\r\n",
    "    for j in range(i, len(c_list), CHOSEN_NUM):\r\n",
    "        for idx, value in enumerate(alphabet):\r\n",
    "            if value == c_list[j]:\r\n",
    "                c_list[j] = alphabet[(idx - int(key[i])) % (len(alphabet))]\r\n",
    "                break\r\n",
    "\r\n",
    "print(\"Tekst:\\n\" + \"\".join(c_list) + \"\\n\\nKey:\\n\" + \"\".join(key_letters))"
   ],
   "outputs": [
    {
     "output_type": "stream",
     "name": "stdout",
     "text": [
      "Tekst:\n",
      "icelandiscurrentlyexperiencingamagnificenteruptiononthereykjanespeninsulathelandthatconnectsreykjavikwithkeflavikinternationalairportintheweeksbeforeitseruptionthecapitalanditssurroundingareashadbeenshakenbytensofthousandsofearthquakesanominouspromisethatvolcanicactivitywasimminentalthoughthereykjanespeninsulaisavitalpartofthecountryfagradalsfjallisthankfullylocatedwithinashelteredvalleyawayfromanysettlementsorinfrastructuremakingitseruptionratherundisruptive\n",
      "\n",
      "Key:\n",
      "nature\n"
     ]
    }
   ],
   "metadata": {}
  }
 ],
 "metadata": {
  "orig_nbformat": 4,
  "language_info": {
   "name": "python",
   "version": "3.8.5",
   "mimetype": "text/x-python",
   "codemirror_mode": {
    "name": "ipython",
    "version": 3
   },
   "pygments_lexer": "ipython3",
   "nbconvert_exporter": "python",
   "file_extension": ".py"
  },
  "kernelspec": {
   "name": "python3",
   "display_name": "Python 3.8.5 32-bit"
  },
  "interpreter": {
   "hash": "695c7e1281c7139e3d6724437637163ace9bb6dc56c7e370f0226671ec3d27a3"
  }
 },
 "nbformat": 4,
 "nbformat_minor": 2
}