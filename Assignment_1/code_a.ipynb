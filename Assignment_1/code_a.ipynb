{
 "cells": [
  {
   "cell_type": "code",
   "execution_count": 1,
   "source": [
    "ciphertext =\"pixxg qa pm epw pia bpm xczm bzcbp qv pqu pm eqtt zmozmb vw aikzqnqkm bpib smmxa qb\""
   ],
   "outputs": [],
   "metadata": {}
  },
  {
   "cell_type": "markdown",
   "source": [
    "Create a dictionary with the alphabet and fill it with the # of occurences of every letter."
   ],
   "metadata": {}
  },
  {
   "cell_type": "code",
   "execution_count": 2,
   "source": [
    "alphabet = {\"a\" : 0, \"b\" : 0, \"c\" : 0, \"d\" : 0, \"e\" : 0, \"f\" : 0, \"g\" : 0, \"h\" : 0, \"i\" : 0, \"j\" : 0, \"k\" : 0, \"l\": 0, \"m\" : 0, \"n\" : 0, \"o\" : 0, \"p\" : 0, \"q\" : 0, \"r\": 0, \"s\" : 0, \"t\": 0, \"u\" : 0, \"v\" : 0, \"w\" : 0, \"x\" : 0, \"y\" : 0, \"z\" : 0}\r\n",
    "total=0\r\n",
    "for letter in ciphertext:\r\n",
    "    if letter in alphabet:\r\n",
    "        alphabet[letter] += 1\r\n",
    "        total += 1\r\n",
    "print(alphabet)\r\n",
    "print(total)"
   ],
   "outputs": [
    {
     "output_type": "stream",
     "name": "stdout",
     "text": [
      "{'a': 4, 'b': 7, 'c': 2, 'd': 0, 'e': 2, 'f': 0, 'g': 1, 'h': 0, 'i': 4, 'j': 0, 'k': 2, 'l': 0, 'm': 9, 'n': 1, 'o': 1, 'p': 9, 'q': 7, 'r': 0, 's': 1, 't': 2, 'u': 1, 'v': 2, 'w': 2, 'x': 4, 'y': 0, 'z': 5}\n",
      "66\n"
     ]
    }
   ],
   "metadata": {}
  },
  {
   "cell_type": "markdown",
   "source": [
    "Translate # of occurences to the percentage (# of occurences / total)."
   ],
   "metadata": {}
  },
  {
   "cell_type": "code",
   "execution_count": 3,
   "source": [
    "probs_cipher = {}\r\n",
    "for letter in alphabet:\r\n",
    "    probs_cipher[letter] = alphabet[letter] / total\r\n",
    "print(probs_cipher)"
   ],
   "outputs": [
    {
     "output_type": "stream",
     "name": "stdout",
     "text": [
      "{'a': 0.06060606060606061, 'b': 0.10606060606060606, 'c': 0.030303030303030304, 'd': 0.0, 'e': 0.030303030303030304, 'f': 0.0, 'g': 0.015151515151515152, 'h': 0.0, 'i': 0.06060606060606061, 'j': 0.0, 'k': 0.030303030303030304, 'l': 0.0, 'm': 0.13636363636363635, 'n': 0.015151515151515152, 'o': 0.015151515151515152, 'p': 0.13636363636363635, 'q': 0.10606060606060606, 'r': 0.0, 's': 0.015151515151515152, 't': 0.030303030303030304, 'u': 0.015151515151515152, 'v': 0.030303030303030304, 'w': 0.030303030303030304, 'x': 0.06060606060606061, 'y': 0.0, 'z': 0.07575757575757576}\n"
     ]
    }
   ],
   "metadata": {}
  },
  {
   "cell_type": "markdown",
   "source": [
    "Look for which shift has the lowest statistical distance to the overall English language statistics."
   ],
   "metadata": {}
  },
  {
   "cell_type": "code",
   "execution_count": 4,
   "source": [
    "probs_eng = {\"a\" : 0.082, \"b\" : 0.015, \"c\" : 0.028, \"d\" : 0.042, \"e\" : 0.127, \"f\" : 0.022, \"g\" : 0.020, \"h\" : 0.061, \"i\" : 0.070, \"j\" : 0.001, \"k\" : 0.008, \"l\" : 0.040, \"m\" : 0.024, \"n\" : 0.067, \"o\" : 0.075, \"p\" : 0.019, \"q\" : 0.001, \"r\" : 0.060, \"s\" : 0.063, \"t\" : 0.090, \"u\" : 0.028, \"v\" : 0.010, \"w\" : 0.024, \"x\" : 0.001, \"y\" : 0.020, \"z\" : 0.001}\r\n",
    "stat_dist = {\"0\" : 0, \"1\" : 0, \"2\" : 0, \"3\" : 0, \"4\" : 0, \"5\" : 0, \"6\" : 0, \"7\" : 0, \"8\" : 0, \"9\" : 0, \"10\" : 0, \"11\": 0, \"12\" : 0, \"13\" : 0, \"14\" : 0, \"15\" : 0, \"16\" : 0, \"17\": 0, \"18\" : 0, \"19\": 0, \"20\" : 0, \"21\" : 0, \"22\" : 0, \"23\" : 0, \"24\" : 0, \"25\" : 0}\r\n",
    "alphabet = \"abcdefghijklmnopqrstuvwxyz\"\r\n",
    "\r\n",
    "for i in range(26):\r\n",
    "    for j in range(26):\r\n",
    "        stat_dist[str(i)] += abs(probs_eng[alphabet[j]] - probs_cipher[alphabet[(j + i) % 25]])\r\n",
    "\r\n",
    "for k in range(26):\r\n",
    "    stat_dist[str(k)] = 0.5 * stat_dist[str(k)]\r\n",
    "\r\n",
    "key = min(stat_dist, key=stat_dist.get)\r\n",
    "print(key)"
   ],
   "outputs": [
    {
     "output_type": "stream",
     "name": "stdout",
     "text": [
      "8\n"
     ]
    }
   ],
   "metadata": {}
  },
  {
   "cell_type": "markdown",
   "source": [
    "Shift the ciphertext with the found shift number to get the plaintext."
   ],
   "metadata": {}
  },
  {
   "cell_type": "code",
   "execution_count": 5,
   "source": [
    "plaintext = \"\"\r\n",
    "for idx, letter in enumerate(ciphertext):\r\n",
    "    if letter == \" \":\r\n",
    "        plaintext += letter\r\n",
    "    else:\r\n",
    "        find = alphabet.find(letter)\r\n",
    "        if (find - int(key)) < 0:\r\n",
    "            plaintext += alphabet[find - int(key) + 26]\r\n",
    "        else:\r\n",
    "            plaintext += alphabet[find - int(key)]\r\n",
    "print(plaintext)"
   ],
   "outputs": [
    {
     "output_type": "stream",
     "name": "stdout",
     "text": [
      "happy is he who has the pure truth in him he will regret no sacrifice that keeps it\n"
     ]
    }
   ],
   "metadata": {}
  }
 ],
 "metadata": {
  "orig_nbformat": 4,
  "language_info": {
   "name": "python",
   "version": "3.8.5",
   "mimetype": "text/x-python",
   "codemirror_mode": {
    "name": "ipython",
    "version": 3
   },
   "pygments_lexer": "ipython3",
   "nbconvert_exporter": "python",
   "file_extension": ".py"
  },
  "kernelspec": {
   "name": "python3",
   "display_name": "Python 3.8.5 32-bit"
  },
  "interpreter": {
   "hash": "695c7e1281c7139e3d6724437637163ace9bb6dc56c7e370f0226671ec3d27a3"
  }
 },
 "nbformat": 4,
 "nbformat_minor": 2
}